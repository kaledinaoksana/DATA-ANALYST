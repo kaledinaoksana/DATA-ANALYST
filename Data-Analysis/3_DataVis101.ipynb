{
 "cells": [
  {
   "cell_type": "markdown",
   "metadata": {},
   "source": [
    "# Data Visualization"
   ]
  },
  {
   "cell_type": "markdown",
   "metadata": {},
   "source": [
    "### QA"
   ]
  },
  {
   "cell_type": "markdown",
   "metadata": {},
   "source": [
    "### The three types of Data Visualization"
   ]
  },
  {
   "cell_type": "markdown",
   "metadata": {},
   "source": [
    "1. Data Storytelling - for presentations to organisational decision makers\n",
    "\n",
    "    - Make it easy for the audience to get the point\n",
    "    - Data Visualisation: \n",
    "        - clutter-free\n",
    "        - highly focused\n",
    "    - Intended audience:\n",
    "        - nonanalysts\n",
    "        - nontechnical business managers\n",
    "    - Produc types:\n",
    "        - static images \n",
    "        - simple interactive dashboards\n"
   ]
  },
  {
   "cell_type": "markdown",
   "metadata": {},
   "source": [
    "\n",
    "2. Data showcasing - for presentations to analysts, scientists, mathematics, and engeneers\n",
    "\n",
    "    - Showcase lots of data so your audience members can think for themselves\n",
    "    - Data Visualisation: \n",
    "        - highly contextual\n",
    "        - open-ended\n",
    "    - Intended audience:\n",
    "        - analysts, quants\n",
    "        - engineers, mathematicians, scientists\n",
    "    - Produc types:\n",
    "        - static images \n",
    "        - interactive dashboards\n"
   ]
  },
  {
   "cell_type": "markdown",
   "metadata": {},
   "source": [
    "3. Data art - for presentations to activists or to general public\n",
    "\n",
    "    - Use your data visualization to make a statement\n",
    "    - Data Visualisation: \n",
    "        - attention getting\n",
    "        - creative, controversial\n",
    "    - Intended audience:\n",
    "        - nidealists, dreamers, artists\n",
    "        - social activists\n",
    "    - Produc types:\n",
    "        - static images "
   ]
  },
  {
   "cell_type": "markdown",
   "metadata": {},
   "source": [
    "### Selecting optimal data graphics"
   ]
  },
  {
   "cell_type": "code",
   "execution_count": null,
   "metadata": {
    "vscode": {
     "languageId": "plaintext"
    }
   },
   "outputs": [],
   "source": []
  },
  {
   "cell_type": "code",
   "execution_count": null,
   "metadata": {
    "vscode": {
     "languageId": "plaintext"
    }
   },
   "outputs": [],
   "source": []
  },
  {
   "cell_type": "markdown",
   "metadata": {},
   "source": [
    "### Communicating with data and context"
   ]
  },
  {
   "cell_type": "code",
   "execution_count": null,
   "metadata": {
    "vscode": {
     "languageId": "plaintext"
    }
   },
   "outputs": [],
   "source": []
  },
  {
   "cell_type": "code",
   "execution_count": null,
   "metadata": {
    "vscode": {
     "languageId": "plaintext"
    }
   },
   "outputs": [],
   "source": []
  }
 ],
 "metadata": {
  "language_info": {
   "name": "python"
  },
  "orig_nbformat": 4
 },
 "nbformat": 4,
 "nbformat_minor": 2
}
